{
 "cells": [
  {
   "cell_type": "code",
   "execution_count": 5,
   "metadata": {},
   "outputs": [
    {
     "name": "stdout",
     "output_type": "stream",
     "text": [
      "Nama\t: Ishfy Achmed Mahessa\n",
      "NIM\t: 312010118\n",
      "Hello, Aldian\n",
      "Aldian Reza\n",
      "312010245\n",
      "TI20E1\n",
      "22\n",
      "Indonesia\n"
     ]
    }
   ],
   "source": [
    "f = open(\"AldianText.txt\", \"r\")\n",
    "\n",
    "print(f.read())\n",
    "f.close()\n",
    "\n",
    "import modulaldian\n",
    "\n",
    "modulaldian.greeting(\"Aldian\")\n",
    "\n",
    "from modulaldian import person1\n",
    "\n",
    "print(person1[\"name\"])\n",
    "print(person1[\"NIM\"])\n",
    "print(person1[\"class\"])\n",
    "print(person1[\"age\"])\n",
    "print(person1[\"country\"])"
   ]
  }
 ],
 "metadata": {
  "kernelspec": {
   "display_name": "Python 3",
   "language": "python",
   "name": "python3"
  },
  "language_info": {
   "codemirror_mode": {
    "name": "ipython",
    "version": 3
   },
   "file_extension": ".py",
   "mimetype": "text/x-python",
   "name": "python",
   "nbconvert_exporter": "python",
   "pygments_lexer": "ipython3",
   "version": "3.10.10"
  },
  "orig_nbformat": 4
 },
 "nbformat": 4,
 "nbformat_minor": 2
}
